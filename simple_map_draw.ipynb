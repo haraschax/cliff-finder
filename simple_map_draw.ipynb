{
 "cells": [
  {
   "cell_type": "code",
   "execution_count": null,
   "id": "71ae4838",
   "metadata": {},
   "outputs": [],
   "source": [
    "import plotly.express as px\n",
    "import pandas as pd\n",
    "\n",
    "\n",
    "#def not_blacklist(row):\n",
    "#  return not in_blacklist(row[1], row[2])\n",
    "\n",
    "data = pd.read_csv('cliffs_found/full_list.txt', delimiter=',', header=None)\n",
    "#data = data.apply(not_blacklist, axis=1)\n",
    "\n",
    "fig = px.scatter_geo(data, lat=1, lon=2)\n",
    "fig.show()\n",
    "fig.write_image(\"/home/batman/Documents/cliffs.png\", width=1920, height=1080, scale=2)"
   ]
  },
  {
   "cell_type": "code",
   "execution_count": null,
   "id": "973262be",
   "metadata": {},
   "outputs": [],
   "source": [
    "array = data.to_numpy()\n",
    "sorted_data = sorted(array, key=lambda x: x[0], reverse=True)"
   ]
  },
  {
   "cell_type": "code",
   "execution_count": null,
   "id": "999b0c8d-4f5b-42ca-b20d-c680c188f4e3",
   "metadata": {},
   "outputs": [],
   "source": [
    "for x in (sorted_data[:30]):\n",
    "  print(x)"
   ]
  },
  {
   "cell_type": "code",
   "execution_count": null,
   "id": "c4bef91c",
   "metadata": {},
   "outputs": [],
   "source": []
  }
 ],
 "metadata": {
  "kernelspec": {
   "display_name": "Python 3 (ipykernel)",
   "language": "python",
   "name": "python3"
  },
  "language_info": {
   "codemirror_mode": {
    "name": "ipython",
    "version": 3
   },
   "file_extension": ".py",
   "mimetype": "text/x-python",
   "name": "python",
   "nbconvert_exporter": "python",
   "pygments_lexer": "ipython3",
   "version": "3.11.4"
  }
 },
 "nbformat": 4,
 "nbformat_minor": 5
}
